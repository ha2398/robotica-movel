{
 "cells": [
  {
   "cell_type": "markdown",
   "metadata": {},
   "source": [
    "# Robótica Móvel - Projeto Final"
   ]
  },
  {
   "cell_type": "code",
   "execution_count": 8,
   "metadata": {},
   "outputs": [],
   "source": [
    "import matplotlib.pyplot as plt\n",
    "import matplotlib.cm as cm\n",
    "import numpy as np\n",
    "import random\n",
    "\n",
    "from scipy import ndimage\n",
    "from tqdm import tqdm_notebook as tqdm\n",
    "\n",
    "DPI = 200\n",
    "FIG_SIZE = (8, 6)\n",
    "HEATMAP_EXTENSION = 'png'\n",
    "\n",
    "def get_neighbours(array, index):\n",
    "    '''\n",
    "        Get neighbour cells of the cell with given index in an array.\n",
    "\n",
    "        @array: (numpy array) Array.\n",
    "        @index: (int, int) Index of cell.\n",
    "\n",
    "        @return: (numpy array) Array with the indices of neighbour cells.\n",
    "    '''\n",
    "\n",
    "    matrix = np.array(array)\n",
    "    indices = tuple(np.transpose(np.atleast_2d(index)))\n",
    "    arr_shape = np.shape(matrix)\n",
    "    dist = np.ones(arr_shape)\n",
    "    dist[indices] = 0\n",
    "    dist = ndimage.distance_transform_cdt(dist, metric='chessboard')\n",
    "    nb_indices = np.transpose(np.nonzero(dist == 1))\n",
    "    return [tuple(x) for x in nb_indices]\n",
    "\n",
    "def get_random_sampling_points(max_reward, height, width, max_jump):\n",
    "    first = random.uniform(0, max_reward)\n",
    "    array = [[-1 for _ in range(width)] for _ in range(height)]\n",
    "    array[0][0] = first\n",
    "    \n",
    "    for i in tqdm(range(height), desc='Creating sampling points'):\n",
    "        for j in range(0, width):\n",
    "            if array[i][j] == -1: # not set\n",
    "                neighbours = get_neighbours(array, (i, j))\n",
    "                \n",
    "                average = [0, 0]\n",
    "                for (n_i, n_j) in neighbours:\n",
    "                    if array[n_i][n_j] != -1:\n",
    "                        average[0] += array[n_i][n_j]\n",
    "                        average[1] += 1\n",
    "                        \n",
    "                average = average[0] / average[1]\n",
    "                \n",
    "                min_v = max(0, average - max_jump)\n",
    "                max_v = min(max_reward, average + max_jump)\n",
    "                \n",
    "                array[i][j] = random.uniform(min_v, max_v)\n",
    "    \n",
    "    plt.figure(figsize=FIG_SIZE)\n",
    "    plt.imshow(array, cmap=cm.jet)\n",
    "    plt.colorbar()\n",
    "    plt.tight_layout()\n",
    "    plt.savefig('./heatmaps/map_max{}_h{}_w{}_j{}.{}'.format(max_reward, height, width, max_jump, HEATMAP_EXTENSION), dpi=DPI)\n",
    "    plt.show()\n",
    "    \n",
    "    array = np.array(array)\n",
    "    np.savetxt('./points_max{}_h{}_w{}_j{}.txt'.format(max_reward, height, width, max_jump), array, fmt='%.2f', delimiter=' ')\n",
    "    return"
   ]
  },
  {
   "cell_type": "code",
   "execution_count": 10,
   "metadata": {},
   "outputs": [
    {
     "data": {
      "application/vnd.jupyter.widget-view+json": {
       "model_id": "1b295864a9584a01978889b6a90a7165",
       "version_major": 2,
       "version_minor": 0
      },
      "text/plain": [
       "HBox(children=(IntProgress(value=0, description='Creating sampling points', max=16, style=ProgressStyle(descri…"
      ]
     },
     "metadata": {},
     "output_type": "display_data"
    },
    {
     "name": "stdout",
     "output_type": "stream",
     "text": [
      "\n"
     ]
    },
    {
     "data": {
      "image/png": "[encoded data removed]",
      "text/plain": [
       "<Figure size 576x432 with 2 Axes>"
      ]
     },
     "metadata": {},
     "output_type": "display_data"
    }
   ],
   "source": [
    "get_random_sampling_points(30, 16, 16, 5)"
   ]
  },
  {
   "cell_type": "code",
   "execution_count": null,
   "metadata": {},
   "outputs": [],
   "source": []
  },
  {
   "cell_type": "code",
   "execution_count": null,
   "metadata": {},
   "outputs": [],
   "source": []
  }
 ],
 "metadata": {
  "kernelspec": {
   "display_name": "Python 3",
   "language": "python",
   "name": "python3"
  },
  "language_info": {
   "codemirror_mode": {
    "name": "ipython",
    "version": 3
   },
   "file_extension": ".py",
   "mimetype": "text/x-python",
   "name": "python",
   "nbconvert_exporter": "python",
   "pygments_lexer": "ipython3",
   "version": "3.6.5"
  }
 },
 "nbformat": 4,
 "nbformat_minor": 2
}
